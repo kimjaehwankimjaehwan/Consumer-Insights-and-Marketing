{
  "nbformat": 4,
  "nbformat_minor": 0,
  "metadata": {
    "colab": {
      "provenance": [],
      "authorship_tag": "ABX9TyPugaETCCrMdPdgrOPaz4cF",
      "include_colab_link": true
    },
    "kernelspec": {
      "name": "python3",
      "display_name": "Python 3"
    },
    "language_info": {
      "name": "python"
    }
  },
  "cells": [
    {
      "cell_type": "markdown",
      "metadata": {
        "id": "view-in-github",
        "colab_type": "text"
      },
      "source": [
        "<a href=\"https://colab.research.google.com/github/kimjaehwankimjaehwan/Consumer-Insights-and-Marketing/blob/main/Diderot_%ED%9A%A8%EA%B3%BC.ipynb\" target=\"_parent\"><img src=\"https://colab.research.google.com/assets/colab-badge.svg\" alt=\"Open In Colab\"/></a>"
      ]
    },
    {
      "cell_type": "markdown",
      "source": [
        "### 가정된 시나리오:\n",
        "\n",
        "1. 소비자가 첫 번째 상품을 구매하면 그와 상호 보완적인 상품들이 추가적으로 구매될 확률이 있습니다.\n",
        "2. 각 상품은 구매되었을 때 소비자의 효용(만족도)을 증가시키며, 효용 함수로 이를 모델링할 수 있습니다.\n",
        "3. 상호 보완성을 고려하여, 효용이 증가할 때마다 연속적인 구매가 일어나는 시뮬레이션을 구현합니다.\n",
        "\n",
        "### 효용 함수 (수식):\n",
        "\n",
        "효용 함수를 사용하여 Diderot 효과를 모델링할 수 있습니다. 이를 간단히 표현하면:\n",
        "\n",
        "$$U = \\sum_{i=1}^{n} u(c_i) + \\gamma \\cdot \\sum_{i=1}^{n-1} f(c_i, c_{i+1})$$\n",
        "\n",
        "여기서:\n",
        "\n",
        "- $U$: 소비자의 총 효용.\n",
        "- $u(c_i)$: 소비재 ci로부터 얻는 효용.\n",
        "- $\\gamma$: 상호 보완성 정도를 나타내는 파라미터.\n",
        "- $f(c_i, c_{i+1})$: 두 상품 사이의 상호 보완성을 설명하는 함수."
      ],
      "metadata": {
        "id": "SjH6Cd4G-ZFh"
      }
    },
    {
      "cell_type": "code",
      "execution_count": 1,
      "metadata": {
        "colab": {
          "base_uri": "https://localhost:8080/"
        },
        "id": "xk7WjcZk-GFQ",
        "outputId": "e8a8e0fb-5a7a-4367-d86b-ebafb307c7da"
      },
      "outputs": [
        {
          "output_type": "stream",
          "name": "stdout",
          "text": [
            "소파 구매! 총 효용: 1100.00\n",
            "커튼 구매! 총 효용: 1420.00\n",
            "카펫 구매! 총 효용: 1770.00\n",
            "테이블 구매! 총 효용: 2240.00\n",
            "램프 구매! 총 효용: 2390.00\n",
            "책장 구매! 총 효용: 2950.00\n",
            "\n",
            "최종 총 효용: 2950.00\n"
          ]
        }
      ],
      "source": [
        "import random\n",
        "\n",
        "# 각 상품의 효용을 계산하는 함수\n",
        "def utility_of_item(item_value, complementarity_factor, previous_item_value):\n",
        "    # 기본 효용은 아이템의 가치에 비례\n",
        "    base_utility = item_value\n",
        "    # 상호 보완성 효과: 이전에 구매한 물건과의 상호작용에 의한 추가 효용\n",
        "    complementary_utility = complementarity_factor * (item_value + previous_item_value)\n",
        "    return base_utility + complementary_utility\n",
        "\n",
        "# 상품 리스트 (상품명, 가격)\n",
        "items = [(\"소파\", 1000), (\"커튼\", 200), (\"카펫\", 300), (\"테이블\", 400), (\"램프\", 100), (\"책장\", 500)]\n",
        "\n",
        "# 상호 보완성 계수 (상호 보완성 정도를 나타내는 파라미터)\n",
        "gamma = 0.1  # 상호 보완성이 약할수록 작게 설정\n",
        "\n",
        "# 초기 상태\n",
        "total_utility = 0\n",
        "previous_item_value = 0  # 첫 번째 구매 전에는 상호 보완성이 없음\n",
        "\n",
        "# 각 상품에 대해 구매를 시뮬레이션\n",
        "for item, price in items:\n",
        "    # 구매 확률: 이전 상품의 상호 보완성에 의해 결정\n",
        "    buy_probability = random.random()  # 0과 1 사이의 랜덤 값\n",
        "    threshold = 0.5  # 구매할 확률 임계값 (상황에 따라 설정 가능)\n",
        "\n",
        "    if buy_probability > threshold:\n",
        "        # 상품을 구매한 경우\n",
        "        utility = utility_of_item(price, gamma, previous_item_value)\n",
        "        total_utility += utility\n",
        "        previous_item_value = price  # 방금 구매한 상품의 가격을 저장\n",
        "        print(f\"{item} 구매! 총 효용: {total_utility:.2f}\")\n",
        "    else:\n",
        "        print(f\"{item} 구매하지 않음.\")\n",
        "\n",
        "print(f\"\\n최종 총 효용: {total_utility:.2f}\")\n"
      ]
    }
  ]
}